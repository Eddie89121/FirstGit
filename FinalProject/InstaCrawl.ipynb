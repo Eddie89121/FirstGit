{
 "cells": [
  {
   "cell_type": "code",
   "execution_count": 4,
   "metadata": {},
   "outputs": [
    {
     "name": "stdout",
     "output_type": "stream",
     "text": [
      "2번 1  @kangeunsim_, 댓글 : 안녕하세요 선팔하고갑니다 제 피드에도 놀러와주실거죠^^?, URL : https://www.instagram.com/p/CchRC9vP-A2/\n",
      "4번 1  @jejudojmt, 댓글 : 👍, URL : https://www.instagram.com/p/CchQWu9pxVQ/\n",
      "6번 1  @97_gayun, 댓글 : #dailylook #ootd #선팔 #맞팔 #선팔맞팔 #좋아요 #좋아요반사 #좋아요테러 #좋반 #좋튀 #일상 #좋반테러 #소통 #소통해요 #데일리 #follow4like #follow4followback #followforfollowback #f4f #like4likes #likeforlike #fff, URL : https://www.instagram.com/p/CchOvd4BHAD/\n",
      "6번 2  @97_gayun, 댓글 : 여기 휴일로 너무 좋지 않나요ㅎㅎ!!, URL : https://www.instagram.com/p/CchOvd4BHAD/\n",
      "7번 1  @she.shed_, 댓글 : 🙌🏻, URL : https://www.instagram.com/p/CchOz0RLsZT/\n",
      "7번 2  @she.shed_, 댓글 : @she.shed_ #제주도여행 #제주데이트 #제주도술집 #제주도카페 #제주가구공방 #제주원데이클래스 #원데이클래스 #원목소품 #소품샵 #신혼부부 #플레이스캠프제주 #제주게스트하우스 #제주쉐어하우스 #제주독채 #성산맛집 #성산와인 #성산위스키 #위스키 #위스키바 #몰트바 #성산일출봉 #섭지코지 #광치기해변, URL : https://www.instagram.com/p/CchOz0RLsZT/\n",
      "9번 1  @bumtage, 댓글 : #범티지, URL : https://www.instagram.com/p/CchJohBL7B2/\n",
      "9번 2  @bumtage, 댓글 : @bumtage #제주도빈티지샵 #서귀포빈티지샵\n",
      "#제주여행 #제주가볼만한곳\n",
      "#서귀포가볼만한곳 #서귀포맛집\n",
      "#제주핫플 #제주한달살기 #제주살이\n",
      "#제주도민 #제주여행코스 #제주맛집\n",
      "#제주옷가게 #서귀포옷가게 #제주도게스트하우스\n",
      "#성산맛집 #성산일출봉 #제주성산카페 #제주성산옷가게 #우도 #광치기해변 #섭지코지, URL : https://www.instagram.com/p/CchJohBL7B2/\n"
     ]
    },
    {
     "ename": "KeyError",
     "evalue": "'comments'",
     "output_type": "error",
     "traceback": [
      "\u001b[1;31m---------------------------------------------------------------------------\u001b[0m",
      "\u001b[1;31mKeyError\u001b[0m                                  Traceback (most recent call last)",
      "\u001b[1;32md:\\Temp\\GitEx\\FirstGit\\FinalProject\\InstaCrawl.ipynb Cell 1'\u001b[0m in \u001b[0;36m<cell line: 34>\u001b[1;34m()\u001b[0m\n\u001b[0;32m     <a href='vscode-notebook-cell:/d%3A/Temp/GitEx/FirstGit/FinalProject/InstaCrawl.ipynb#ch0000000?line=59'>60</a>\u001b[0m dataList\u001b[39m.\u001b[39mappend(data) \n\u001b[0;32m     <a href='vscode-notebook-cell:/d%3A/Temp/GitEx/FirstGit/FinalProject/InstaCrawl.ipynb#ch0000000?line=60'>61</a>\u001b[0m pidCount \u001b[39m=\u001b[39m pidCount\u001b[39m+\u001b[39m\u001b[39m1\u001b[39m \n\u001b[1;32m---> <a href='vscode-notebook-cell:/d%3A/Temp/GitEx/FirstGit/FinalProject/InstaCrawl.ipynb#ch0000000?line=62'>63</a>\u001b[0m comments \u001b[39m=\u001b[39m m[\u001b[39m'\u001b[39;49m\u001b[39mcomments\u001b[39;49m\u001b[39m'\u001b[39;49m]\n\u001b[0;32m     <a href='vscode-notebook-cell:/d%3A/Temp/GitEx/FirstGit/FinalProject/InstaCrawl.ipynb#ch0000000?line=64'>65</a>\u001b[0m \u001b[39m# print(m.keys())\u001b[39;00m\n\u001b[0;32m     <a href='vscode-notebook-cell:/d%3A/Temp/GitEx/FirstGit/FinalProject/InstaCrawl.ipynb#ch0000000?line=67'>68</a>\u001b[0m \u001b[39mfor\u001b[39;00m i \u001b[39min\u001b[39;00m \u001b[39mrange\u001b[39m(\u001b[39mlen\u001b[39m(comments)):\n",
      "\u001b[1;31mKeyError\u001b[0m: 'comments'"
     ]
    }
   ],
   "source": [
    "from openpyxl.workbook.workbook import Workbook \n",
    "import requests \n",
    "import json \n",
    "from datetime import datetime \n",
    "\n",
    "# 헤더값은 각자의 f12의 내용 참고해서 작성해야됨. 아래 코드의 값과 다를 수 있음. \n",
    "header = { \n",
    "    'accept': '*/*', \n",
    "    'accept-encoding': 'gzip, deflate, br', \n",
    "    'accept-language': 'ko-KR,ko;q=0.9,en-US;q=0.8,en;q=0.7', \n",
    "    'cookie': 'mid=Yl4A5gALAAGkM1xRDCnHj_QMA0LC; ig_did=24E6B9F6-818E-450A-AD22-ACBE78D4F374; ig_nrcb=1; csrftoken=CUQ91TR4rkLcWI5GX7yItQDEMfCZLyX5; ds_user_id=52627331756; sessionid=52627331756%3A26RfWACrO824k6%3A18; rur=\"EAG\\05452627331756\\0541681864196:01f7e0a60374ee15f81170706387198314d0166585cc588474aa3ae552d60d7ce26df77b\"', #교체\n",
    "    'referer': \"https://www.instagram.com/\", \n",
    "    'sec-ch-ua': '\" Not A;Brand\";v=\"99\", \"Chromium\";v=\"100\", \"Google Chrome\";v=\"100\"', \n",
    "    'sec-ch-ua-mobile': '?0', \n",
    "    'sec-ch-ua-platform':'windows', \n",
    "    'sec-fetch-dest': 'empty', \n",
    "    'sec-fetch-mode': 'cors', \n",
    "    'sec-fetch-site': 'same-origin', \n",
    "    'user-agent': 'Mozilla/5.0 (Windows NT 10.0; Win64; x64) AppleWebKit/537.36 (KHTML, like Gecko) Chrome/100.0.4896.88 Safari/537.36', #교체\n",
    "    'x-asbd-id': '198387', \n",
    "    'x-ig-app-id': '936619743392459', \n",
    "    'x-ig-www-claim': 'hmac.AR0xvMfbTxmrH54oW4AQdaa_T5SSYuD9uxm4nQtPyh-icvhY', #교체\n",
    "    'x-requested-with': 'XMLHttpRequest' \n",
    "    } \n",
    "\n",
    "\n",
    "dataList = [] \n",
    "search = '섭지코지'\n",
    "URL = 'https://www.instagram.com/explore/tags/'+search+'/?__a=1' \n",
    "\n",
    "# 개수확인용도 \n",
    "pidCount = 0 \n",
    "\n",
    "while(True): \n",
    "\n",
    "    res = requests.get(URL, headers =header) \n",
    "    res = res.json() \n",
    "\n",
    "    if 'next_page' not in res['data']['recent'].keys() or int(res['data']['recent']['next_page']) == 0: break \n",
    "    max_id = res['data']['recent']['next_max_id'] \n",
    "\n",
    "\n",
    "    for n in res['data']['recent']['sections']: \n",
    "        for m in ((n['layout_content']['medias'])): \n",
    "            # m : 인스타 게시글 1개 \n",
    "            m = m['media'] \n",
    "            data = {} \n",
    "            data['pagePk'] = m['code'] \n",
    "            data['URL'] = 'https://www.instagram.com/p/'+ data['pagePk']+\"/\" \n",
    "            data['user_name'] = (m['user']['username']) \n",
    "\n",
    "            # 이미지/동영상 체크 \n",
    "            keys = m.keys() \n",
    "            if 'carousel_media' in keys: \n",
    "                data['image'] = (m['carousel_media']) \n",
    "            else: \n",
    "                data['image'] = [{'image_versions2':{\"candidates\":[{'url'}]}}] \n",
    "                # data['image'] = [{'image_versions2':{\"candidates\":[{'url':'동영상업로드'}]}}] \n",
    "            \n",
    "            dataList.append(data) \n",
    "            pidCount = pidCount+1 \n",
    "\n",
    "            comments = m['comments']\n",
    "            \n",
    "            # print(m.keys())\n",
    "\n",
    "\n",
    "            for i in range(len(comments)):\n",
    "                if (len(comments) != 0):\n",
    "                    print(str(pidCount) + '번 ' + str(i+1) + '  ' +'@' + data['user_name'] + ', 댓글 : ' + comments[i].get('text') + ', URL : ' + data['URL'])\n",
    "\n",
    "\n",
    "    URL = 'https://www.instagram.com/explore/tags/'+search+'/?__a=1&max_id='+max_id \n",
    "    \n"
   ]
  },
  {
   "cell_type": "code",
   "execution_count": null,
   "metadata": {},
   "outputs": [
    {
     "ename": "TypeError",
     "evalue": "list indices must be integers or slices, not str",
     "output_type": "error",
     "traceback": [
      "\u001b[1;31m---------------------------------------------------------------------------\u001b[0m",
      "\u001b[1;31mTypeError\u001b[0m                                 Traceback (most recent call last)",
      "\u001b[1;32md:\\Temp\\GitEx\\FirstGit\\FinalProject\\InstaCrawl.ipynb Cell 2'\u001b[0m in \u001b[0;36m<cell line: 17>\u001b[1;34m()\u001b[0m\n\u001b[0;32m     <a href='vscode-notebook-cell:/d%3A/Temp/GitEx/FirstGit/FinalProject/InstaCrawl.ipynb#ch0000001?line=20'>21</a>\u001b[0m \u001b[39m# 이미지링크 엑셀에 저장 \u001b[39;00m\n\u001b[0;32m     <a href='vscode-notebook-cell:/d%3A/Temp/GitEx/FirstGit/FinalProject/InstaCrawl.ipynb#ch0000001?line=21'>22</a>\u001b[0m \u001b[39mfor\u001b[39;00m imgUrl \u001b[39min\u001b[39;00m data[\u001b[39m'\u001b[39m\u001b[39mimage\u001b[39m\u001b[39m'\u001b[39m]: \n\u001b[1;32m---> <a href='vscode-notebook-cell:/d%3A/Temp/GitEx/FirstGit/FinalProject/InstaCrawl.ipynb#ch0000001?line=22'>23</a>\u001b[0m     url \u001b[39m=\u001b[39m imgUrl[\u001b[39m'\u001b[39;49m\u001b[39mimage_versions2\u001b[39;49m\u001b[39m'\u001b[39;49m][\u001b[39m'\u001b[39;49m\u001b[39mcandidates\u001b[39;49m\u001b[39m'\u001b[39;49m][\u001b[39m'\u001b[39;49m\u001b[39murl\u001b[39;49m\u001b[39m'\u001b[39;49m] \n\u001b[0;32m     <a href='vscode-notebook-cell:/d%3A/Temp/GitEx/FirstGit/FinalProject/InstaCrawl.ipynb#ch0000001?line=23'>24</a>\u001b[0m     \u001b[39m# url = imgUrl['image_versions2']['candidates'][0]['url'] \u001b[39;00m\n\u001b[0;32m     <a href='vscode-notebook-cell:/d%3A/Temp/GitEx/FirstGit/FinalProject/InstaCrawl.ipynb#ch0000001?line=24'>25</a>\u001b[0m     sheet1[\u001b[39m'\u001b[39m\u001b[39mC\u001b[39m\u001b[39m'\u001b[39m\u001b[39m+\u001b[39m\u001b[39mstr\u001b[39m(sheetIndex)] \u001b[39m=\u001b[39m url \n",
      "\u001b[1;31mTypeError\u001b[0m: list indices must be integers or slices, not str"
     ]
    }
   ],
   "source": [
    "# 엑셀 다운로드 및 이미지 저장 \n",
    "\n",
    "from openpyxl import Workbook \n",
    "wb = Workbook() \n",
    "ws = wb.active \n",
    "\n",
    "\n",
    "#시트생성 \n",
    "sheet1 = wb['Sheet'] \n",
    "sheet1.title = '수집 데이터' \n",
    "sheet1['A1'] = '아이디' \n",
    "sheet1['B1'] = 'URL' \n",
    "sheet1['C1'] = '이미지' \n",
    "\n",
    "sheetIndex = 2 \n",
    "\n",
    "for data in dataList: \n",
    "    sheet1['A'+str(sheetIndex)] = data['user_name'] \n",
    "    sheet1['B'+str(sheetIndex)] = data['URL'] \n",
    "\n",
    "    # 이미지링크 엑셀에 저장 \n",
    "    for imgUrl in data['image']: \n",
    "        url = imgUrl['image_versions2']['candidates']['url'] \n",
    "        # url = imgUrl['image_versions2']['candidates'][0]['url'] \n",
    "        sheet1['C'+str(sheetIndex)] = url \n",
    "\n",
    "        # 이미지 폴더에 저장 \n",
    "        if not os.path.exists(\"./images/\"+data['user_name']): \n",
    "            os.mkdir(\"./images/\"+data['user_name']) \n",
    "            \n",
    "        if url not in '동영상업로드': \n",
    "            r = requests.get(url) \n",
    "            file = open(\"./images/\"+data['user_name']+'/'+data['user_name']+str(sheetIndex)+\".jpg\",\"wb\") \n",
    "            file.write(r.content) \n",
    "            file.close() \n",
    "            \n",
    "        sheetIndex = sheetIndex+1 \n",
    "\n",
    "wb.save('./test1.xlsx')\n"
   ]
  },
  {
   "cell_type": "code",
   "execution_count": null,
   "metadata": {},
   "outputs": [],
   "source": []
  },
  {
   "cell_type": "markdown",
   "metadata": {},
   "source": []
  }
 ],
 "metadata": {
  "interpreter": {
   "hash": "f4965cfda421dfd6f4cfb567df02190493ab7a1fe46e1d6f04f2171f192af24f"
  },
  "kernelspec": {
   "display_name": "Python 3.9.7 64-bit",
   "language": "python",
   "name": "python3"
  },
  "language_info": {
   "codemirror_mode": {
    "name": "ipython",
    "version": 3
   },
   "file_extension": ".py",
   "mimetype": "text/x-python",
   "name": "python",
   "nbconvert_exporter": "python",
   "pygments_lexer": "ipython3",
   "version": "3.10.4"
  },
  "orig_nbformat": 4
 },
 "nbformat": 4,
 "nbformat_minor": 2
}
