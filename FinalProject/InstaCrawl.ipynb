{
 "cells": [
  {
   "cell_type": "code",
   "execution_count": 6,
   "metadata": {},
   "outputs": [
    {
     "name": "stdout",
     "output_type": "stream",
     "text": [
      "ID : yenxkk, 댓글 : .\n",
      "ID : kiiiiidoo, 댓글 : 첫줄 모두 좋아요 눌렀어요 😍❤️ 저도 똑같이 첫줄 모두 좋아요 부탁드려요\n",
      "ID : ji_0s_, 댓글 : 💛\n",
      "ID : ss__blossom, 댓글 : 올\n",
      "ID : 1126.gyu, 댓글 : 🏷\n",
      "ID : xo__9u, 댓글 : 🔥\n",
      "ID : ong_ggyu, 댓글 : *\n",
      "ID : oh_ms714, 댓글 : 🏝\n",
      "ID : casa_de_alma_, 댓글 : 🔥\n",
      "ID : sweet_won83, 댓글 : 🍽🦞\n",
      "ID : our.us, 댓글 : 🌊\n",
      "ID : kolonmall, 댓글 : #KOLONMALL #코오롱몰 #OLO #보는눈있네 #GGIO2 #지오투 #변요한 #제주 #돌담 #데님 #팬츠 #데님팬츠 #denim #티셔츠 #데님자켓\n",
      "ID : hoki_log, 댓글 : 🚲\n",
      "ID : 60_u0, 댓글 : 👨‍👩‍👧‍👧\n",
      "ID : bukmrk, 댓글 : 🍨\n",
      "ID : luna_sunn2, 댓글 : @luna_sunn2 #서울 #제주 #트레킹 #곽지해수욕장 #한담해안산책로 #해변 #한담해안산책로 #제주도여행 #리치망고 #여행 #운동 #소통 #내일 #한라산 #일상 #daily #좋테 #좋반 #좋아요 #첫줄반사 #첫줄좋반 #첫줄 #맞팔 #선팔 #선팔맞팔\n"
     ]
    },
    {
     "ename": "KeyError",
     "evalue": "'comments'",
     "output_type": "error",
     "traceback": [
      "\u001b[1;31m---------------------------------------------------------------------------\u001b[0m",
      "\u001b[1;31mKeyError\u001b[0m                                  Traceback (most recent call last)",
      "\u001b[1;32md:\\Temp\\GitEx\\FirstGit\\FinalProject\\InstaCrawl.ipynb Cell 1'\u001b[0m in \u001b[0;36m<cell line: 34>\u001b[1;34m()\u001b[0m\n\u001b[0;32m     <a href='vscode-notebook-cell:/d%3A/Temp/GitEx/FirstGit/FinalProject/InstaCrawl.ipynb#ch0000000?line=59'>60</a>\u001b[0m dataList\u001b[39m.\u001b[39mappend(data) \n\u001b[0;32m     <a href='vscode-notebook-cell:/d%3A/Temp/GitEx/FirstGit/FinalProject/InstaCrawl.ipynb#ch0000000?line=60'>61</a>\u001b[0m pidCount \u001b[39m=\u001b[39m pidCount\u001b[39m+\u001b[39m\u001b[39m1\u001b[39m \n\u001b[1;32m---> <a href='vscode-notebook-cell:/d%3A/Temp/GitEx/FirstGit/FinalProject/InstaCrawl.ipynb#ch0000000?line=62'>63</a>\u001b[0m comments \u001b[39m=\u001b[39m m[\u001b[39m'\u001b[39;49m\u001b[39mcomments\u001b[39;49m\u001b[39m'\u001b[39;49m]\n\u001b[0;32m     <a href='vscode-notebook-cell:/d%3A/Temp/GitEx/FirstGit/FinalProject/InstaCrawl.ipynb#ch0000000?line=63'>64</a>\u001b[0m \u001b[39m# moreComments = m['has_more_comments']\u001b[39;00m\n\u001b[0;32m     <a href='vscode-notebook-cell:/d%3A/Temp/GitEx/FirstGit/FinalProject/InstaCrawl.ipynb#ch0000000?line=64'>65</a>\u001b[0m \u001b[39m# print(\"댓글더보기?\")\u001b[39;00m\n\u001b[0;32m     <a href='vscode-notebook-cell:/d%3A/Temp/GitEx/FirstGit/FinalProject/InstaCrawl.ipynb#ch0000000?line=65'>66</a>\u001b[0m \u001b[39m# print(moreComments)\u001b[39;00m\n\u001b[0;32m     <a href='vscode-notebook-cell:/d%3A/Temp/GitEx/FirstGit/FinalProject/InstaCrawl.ipynb#ch0000000?line=67'>68</a>\u001b[0m \u001b[39mif\u001b[39;00m (\u001b[39mlen\u001b[39m(comments) \u001b[39m!=\u001b[39m \u001b[39m0\u001b[39m):\n",
      "\u001b[1;31mKeyError\u001b[0m: 'comments'"
     ]
    }
   ],
   "source": [
    "from pprint import pprint \n",
    "from openpyxl.workbook.workbook import Workbook \n",
    "import requests \n",
    "import json \n",
    "from datetime import datetime \n",
    "\n",
    "# 헤더값은 각자의 f12의 내용 참고해서 작성해야됨. 아래 코드의 값과 다를 수 있음. \n",
    "header = { \n",
    "    'accept': '*/*', \n",
    "    'accept-encoding': 'gzip, deflate, br', \n",
    "    'accept-language': 'ko-KR,ko;q=0.9,en-US;q=0.8,en;q=0.7', \n",
    "    'cookie': 'mid=YlkSBQALAAHicDHRHF0ryc2Vklbr; ig_did=1217AE7F-5A0D-4572-A3B2-8667E9E88EF3; ig_nrcb=1; csrftoken=JQg9fvzgRGiIQfkXP1goVs2RuUc1wnlA; ds_user_id=49734310131; sessionid=49734310131%3Ar6OszlzRoUbT05%3A9; shbid=\"11165\\05449734310131\\0541681540526:01f74c66e867430b3616d511d732727e338617939647e3cd380ce36b76a1d9a2622dd839\"; shbts=\"1650004526\\05449734310131\\0541681540526:01f763311a1fe9b02c4b4288bd0095024b37beecb31c5616aa20e6d98ddfc44e594150d2\"; rur=\"EAG\\05449734310131\\0541681779288:01f7b282118cd865e8cd2d62ac46beeb016d5befa4295347adc5703584d0978e2688889d\"', \n",
    "    'referer': \"https://www.instagram.com/\", \n",
    "    'sec-ch-ua': '\" Not A;Brand\";v=\"99\", \"Chromium\";v=\"100\", \"Google Chrome\";v=\"100\"', \n",
    "    'sec-ch-ua-mobile': '?0', \n",
    "    'sec-ch-ua-platform':'windows', \n",
    "    'sec-fetch-dest': 'empty', \n",
    "    'sec-fetch-mode': 'cors', \n",
    "    'sec-fetch-site': 'same-origin', \n",
    "    'user-agent': 'Mozilla/5.0 (Windows NT 10.0; Win64; x64) AppleWebKit/537.36 (KHTML, like Gecko) Chrome/100.0.4896.88 Safari/537.36', \n",
    "    'x-asbd-id': '198387', \n",
    "    'x-ig-app-id': '936619743392459', \n",
    "    'x-ig-www-claim': 'hmac.AR2nMlqUjTOj2hZlRuhqHFwlXDF0Qck69oM_gSbxidPKXob7', \n",
    "    'x-requested-with': 'XMLHttpRequest' \n",
    "    } \n",
    "\n",
    "\n",
    "dataList = [] \n",
    "URL = 'https://www.instagram.com/explore/tags/제주/?__a=1' \n",
    "\n",
    "# 개수확인용도 \n",
    "pidCount = 0 \n",
    "\n",
    "while(True): \n",
    "\n",
    "    res = requests.get(URL, headers =header) \n",
    "    res = res.json() \n",
    "\n",
    "    if 'next_page' not in res['data']['recent'].keys() or int(res['data']['recent']['next_page']) == 0: break \n",
    "    max_id = res['data']['recent']['next_max_id'] \n",
    "\n",
    "\n",
    "    for n in res['data']['recent']['sections']: \n",
    "        for m in ((n['layout_content']['medias'])): \n",
    "            # m : 인스타 게시글 1개 \n",
    "            m = m['media'] \n",
    "            data = {} \n",
    "            data['pagePk'] = m['code'] \n",
    "            data['URL'] = 'https://www.instagram.com/p/'+ data['pagePk']+\"/\" \n",
    "            data['user_name'] = (m['user']['username']) \n",
    "\n",
    "            # 이미지/동영상 체크 \n",
    "            keys = m.keys() \n",
    "            if 'carousel_media' in keys: \n",
    "                data['image'] = (m['carousel_media']) \n",
    "            else: \n",
    "                data['image'] = [{'image_versions2':{\"candidates\":[{'url'}]}}] \n",
    "                # data['image'] = [{'image_versions2':{\"candidates\":[{'url':'동영상업로드'}]}}] \n",
    "            \n",
    "            dataList.append(data) \n",
    "            pidCount = pidCount+1 \n",
    "\n",
    "            comments = m['comments']\n",
    "            # moreComments = m['has_more_comments']\n",
    "            # print(\"댓글더보기?\")\n",
    "            # print(moreComments)\n",
    "\n",
    "            if (len(comments) != 0):\n",
    "                print('ID : ' + data['user_name'] + ', 댓글 : ' + comments[0].get('text'))\n",
    "\n",
    "\n",
    "    URL = 'https://www.instagram.com/explore/tags/'+'태그명'+'/?__a=1&max_id='+max_id \n",
    "    \n"
   ]
  },
  {
   "cell_type": "code",
   "execution_count": 2,
   "metadata": {},
   "outputs": [
    {
     "ename": "TypeError",
     "evalue": "list indices must be integers or slices, not str",
     "output_type": "error",
     "traceback": [
      "\u001b[1;31m---------------------------------------------------------------------------\u001b[0m",
      "\u001b[1;31mTypeError\u001b[0m                                 Traceback (most recent call last)",
      "\u001b[1;32md:\\Temp\\GitEx\\FirstGit\\FinalProject\\InstaCrawl.ipynb Cell 2'\u001b[0m in \u001b[0;36m<cell line: 17>\u001b[1;34m()\u001b[0m\n\u001b[0;32m     <a href='vscode-notebook-cell:/d%3A/Temp/GitEx/FirstGit/FinalProject/InstaCrawl.ipynb#ch0000001?line=20'>21</a>\u001b[0m \u001b[39m# 이미지링크 엑셀에 저장 \u001b[39;00m\n\u001b[0;32m     <a href='vscode-notebook-cell:/d%3A/Temp/GitEx/FirstGit/FinalProject/InstaCrawl.ipynb#ch0000001?line=21'>22</a>\u001b[0m \u001b[39mfor\u001b[39;00m imgUrl \u001b[39min\u001b[39;00m data[\u001b[39m'\u001b[39m\u001b[39mimage\u001b[39m\u001b[39m'\u001b[39m]: \n\u001b[1;32m---> <a href='vscode-notebook-cell:/d%3A/Temp/GitEx/FirstGit/FinalProject/InstaCrawl.ipynb#ch0000001?line=22'>23</a>\u001b[0m     url \u001b[39m=\u001b[39m imgUrl[\u001b[39m'\u001b[39;49m\u001b[39mimage_versions2\u001b[39;49m\u001b[39m'\u001b[39;49m][\u001b[39m'\u001b[39;49m\u001b[39mcandidates\u001b[39;49m\u001b[39m'\u001b[39;49m][\u001b[39m'\u001b[39;49m\u001b[39murl\u001b[39;49m\u001b[39m'\u001b[39;49m] \n\u001b[0;32m     <a href='vscode-notebook-cell:/d%3A/Temp/GitEx/FirstGit/FinalProject/InstaCrawl.ipynb#ch0000001?line=23'>24</a>\u001b[0m     \u001b[39m# url = imgUrl['image_versions2']['candidates'][0]['url'] \u001b[39;00m\n\u001b[0;32m     <a href='vscode-notebook-cell:/d%3A/Temp/GitEx/FirstGit/FinalProject/InstaCrawl.ipynb#ch0000001?line=24'>25</a>\u001b[0m     sheet1[\u001b[39m'\u001b[39m\u001b[39mC\u001b[39m\u001b[39m'\u001b[39m\u001b[39m+\u001b[39m\u001b[39mstr\u001b[39m(sheetIndex)] \u001b[39m=\u001b[39m url \n",
      "\u001b[1;31mTypeError\u001b[0m: list indices must be integers or slices, not str"
     ]
    }
   ],
   "source": [
    "# 엑셀 다운로드 및 이미지 저장 \n",
    "\n",
    "from openpyxl import Workbook \n",
    "wb = Workbook() \n",
    "ws = wb.active \n",
    "\n",
    "\n",
    "#시트생성 \n",
    "sheet1 = wb['Sheet'] \n",
    "sheet1.title = '수집 데이터' \n",
    "sheet1['A1'] = '아이디' \n",
    "sheet1['B1'] = 'URL' \n",
    "sheet1['C1'] = '이미지' \n",
    "\n",
    "sheetIndex = 2 \n",
    "\n",
    "for data in dataList: \n",
    "    sheet1['A'+str(sheetIndex)] = data['user_name'] \n",
    "    sheet1['B'+str(sheetIndex)] = data['URL'] \n",
    "\n",
    "    # 이미지링크 엑셀에 저장 \n",
    "    for imgUrl in data['image']: \n",
    "        url = imgUrl['image_versions2']['candidates']['url'] \n",
    "        # url = imgUrl['image_versions2']['candidates'][0]['url'] \n",
    "        sheet1['C'+str(sheetIndex)] = url \n",
    "\n",
    "        # 이미지 폴더에 저장 \n",
    "        if not os.path.exists(\"./images/\"+data['user_name']): \n",
    "            os.mkdir(\"./images/\"+data['user_name']) \n",
    "            \n",
    "        if url not in '동영상업로드': \n",
    "            r = requests.get(url) \n",
    "            file = open(\"./images/\"+data['user_name']+'/'+data['user_name']+str(sheetIndex)+\".jpg\",\"wb\") \n",
    "            file.write(r.content) \n",
    "            file.close() \n",
    "            \n",
    "        sheetIndex = sheetIndex+1 \n",
    "\n",
    "wb.save('./test1.xlsx')\n"
   ]
  },
  {
   "cell_type": "code",
   "execution_count": null,
   "metadata": {},
   "outputs": [],
   "source": []
  },
  {
   "cell_type": "markdown",
   "metadata": {},
   "source": []
  }
 ],
 "metadata": {
  "interpreter": {
   "hash": "f4965cfda421dfd6f4cfb567df02190493ab7a1fe46e1d6f04f2171f192af24f"
  },
  "kernelspec": {
   "display_name": "Python 3.9.7 64-bit",
   "language": "python",
   "name": "python3"
  },
  "language_info": {
   "codemirror_mode": {
    "name": "ipython",
    "version": 3
   },
   "file_extension": ".py",
   "mimetype": "text/x-python",
   "name": "python",
   "nbconvert_exporter": "python",
   "pygments_lexer": "ipython3",
   "version": "3.10.4"
  },
  "orig_nbformat": 4
 },
 "nbformat": 4,
 "nbformat_minor": 2
}
